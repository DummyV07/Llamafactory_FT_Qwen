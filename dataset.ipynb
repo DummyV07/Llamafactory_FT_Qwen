{
 "cells": [
  {
   "cell_type": "markdown",
   "metadata": {},
   "source": [
    "## 数据集制作"
   ]
  },
  {
   "cell_type": "code",
   "execution_count": null,
   "metadata": {},
   "outputs": [],
   "source": [
    "# docx --> txt\n",
    "from docx import Document\n",
    "\n",
    "# 读取 .docx 文件\n",
    "def docx_to_text(docx_file, txt_file):\n",
    "    doc = Document(docx_file)\n",
    "    with open(txt_file, 'w', encoding='utf-8') as f:\n",
    "        for para in doc.paragraphs:\n",
    "            f.write(para.text + '\\n')\n",
    "\n",
    "# 调用函数转换\n",
    "docx_file = 'xingfa.docx'  # 你的 .docx 文件路径\n",
    "txt_file = 'output.txt'    # 转换后的 .txt 文件路径\n",
    "# docx_to_text(docx_file, txt_file)\n",
    "\n",
    "print(f'已将 {docx_file} 转换为 {txt_file}')"
   ]
  }
 ],
 "metadata": {
  "language_info": {
   "name": "python"
  }
 },
 "nbformat": 4,
 "nbformat_minor": 2
}
